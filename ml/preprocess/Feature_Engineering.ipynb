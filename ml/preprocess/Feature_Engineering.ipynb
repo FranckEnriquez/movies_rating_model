{
 "cells": [
  {
   "cell_type": "markdown",
   "id": "9341706d",
   "metadata": {},
   "source": [
    "#### import external libraries"
   ]
  },
  {
   "cell_type": "code",
   "execution_count": 1,
   "id": "55678e98",
   "metadata": {},
   "outputs": [],
   "source": [
    "import numpy as np\n",
    "import pandas as pd\n",
    "import matplotlib.pyplot as plt\n",
    "from datetime import datetime"
   ]
  },
  {
   "cell_type": "markdown",
   "id": "746e2a48",
   "metadata": {},
   "source": [
    "#### set up of external libraries"
   ]
  },
  {
   "cell_type": "code",
   "execution_count": 2,
   "id": "943e3d4a",
   "metadata": {},
   "outputs": [],
   "source": [
    "plt.style.use('ggplot')"
   ]
  },
  {
   "cell_type": "markdown",
   "id": "36633282",
   "metadata": {},
   "source": [
    "#### IPython extensions"
   ]
  },
  {
   "cell_type": "code",
   "execution_count": 3,
   "id": "68545b0d",
   "metadata": {},
   "outputs": [],
   "source": [
    "%load_ext autoreload\n",
    "%autoreload 2"
   ]
  },
  {
   "cell_type": "markdown",
   "id": "6a3a12ba",
   "metadata": {},
   "source": [
    "#### import internal libraries"
   ]
  },
  {
   "cell_type": "code",
   "execution_count": 4,
   "id": "6e1b6599",
   "metadata": {},
   "outputs": [],
   "source": [
    "from utils import visualizations as vs\n",
    "from utils import exploratory_analysis as EDA"
   ]
  },
  {
   "cell_type": "markdown",
   "id": "83afd144",
   "metadata": {},
   "source": [
    "## Mathematical functions"
   ]
  },
  {
   "cell_type": "markdown",
   "id": "c8bb13eb",
   "metadata": {},
   "source": [
    "## Constants"
   ]
  },
  {
   "cell_type": "code",
   "execution_count": 5,
   "id": "7e689197",
   "metadata": {},
   "outputs": [],
   "source": [
    "PATH_FILES = '/home/franckml/Documents/repositories/movies_rating_model/ml/data/datasets/'\n",
    "FILES_NAMES = ['genome_tags.csv', 'genome_scores.csv',\n",
    "               'link.csv', 'movie.csv', 'rating.csv', 'tag.csv']"
   ]
  },
  {
   "cell_type": "markdown",
   "id": "bd3eed52",
   "metadata": {},
   "source": [
    "## Data gathering"
   ]
  },
  {
   "cell_type": "code",
   "execution_count": 6,
   "id": "ce92e5b7",
   "metadata": {},
   "outputs": [],
   "source": [
    "df_genome_tags, df_genome_scores, df_link, df_movie, df_rating, df_tag = [\n",
    "    pd.read_csv(PATH_FILES + f) for f in FILES_NAMES]"
   ]
  },
  {
   "cell_type": "code",
   "execution_count": 7,
   "id": "0d1d3c29",
   "metadata": {},
   "outputs": [
    {
     "data": {
      "text/html": [
       "<div>\n",
       "<style scoped>\n",
       "    .dataframe tbody tr th:only-of-type {\n",
       "        vertical-align: middle;\n",
       "    }\n",
       "\n",
       "    .dataframe tbody tr th {\n",
       "        vertical-align: top;\n",
       "    }\n",
       "\n",
       "    .dataframe thead th {\n",
       "        text-align: right;\n",
       "    }\n",
       "</style>\n",
       "<table border=\"1\" class=\"dataframe\">\n",
       "  <thead>\n",
       "    <tr style=\"text-align: right;\">\n",
       "      <th></th>\n",
       "      <th>tagId</th>\n",
       "      <th>tag</th>\n",
       "    </tr>\n",
       "  </thead>\n",
       "  <tbody>\n",
       "    <tr>\n",
       "      <th>0</th>\n",
       "      <td>1</td>\n",
       "      <td>007</td>\n",
       "    </tr>\n",
       "    <tr>\n",
       "      <th>1</th>\n",
       "      <td>2</td>\n",
       "      <td>007 (series)</td>\n",
       "    </tr>\n",
       "  </tbody>\n",
       "</table>\n",
       "</div>"
      ],
      "text/plain": [
       "   tagId           tag\n",
       "0      1           007\n",
       "1      2  007 (series)"
      ]
     },
     "execution_count": 7,
     "metadata": {},
     "output_type": "execute_result"
    }
   ],
   "source": [
    "df_genome_tags.head(n=2)"
   ]
  },
  {
   "cell_type": "code",
   "execution_count": 8,
   "id": "b6f41752",
   "metadata": {},
   "outputs": [
    {
     "data": {
      "text/html": [
       "<div>\n",
       "<style scoped>\n",
       "    .dataframe tbody tr th:only-of-type {\n",
       "        vertical-align: middle;\n",
       "    }\n",
       "\n",
       "    .dataframe tbody tr th {\n",
       "        vertical-align: top;\n",
       "    }\n",
       "\n",
       "    .dataframe thead th {\n",
       "        text-align: right;\n",
       "    }\n",
       "</style>\n",
       "<table border=\"1\" class=\"dataframe\">\n",
       "  <thead>\n",
       "    <tr style=\"text-align: right;\">\n",
       "      <th></th>\n",
       "      <th>movieId</th>\n",
       "      <th>tagId</th>\n",
       "      <th>relevance</th>\n",
       "    </tr>\n",
       "  </thead>\n",
       "  <tbody>\n",
       "    <tr>\n",
       "      <th>0</th>\n",
       "      <td>1</td>\n",
       "      <td>1</td>\n",
       "      <td>0.025</td>\n",
       "    </tr>\n",
       "    <tr>\n",
       "      <th>1</th>\n",
       "      <td>1</td>\n",
       "      <td>2</td>\n",
       "      <td>0.025</td>\n",
       "    </tr>\n",
       "  </tbody>\n",
       "</table>\n",
       "</div>"
      ],
      "text/plain": [
       "   movieId  tagId  relevance\n",
       "0        1      1      0.025\n",
       "1        1      2      0.025"
      ]
     },
     "execution_count": 8,
     "metadata": {},
     "output_type": "execute_result"
    }
   ],
   "source": [
    "df_genome_scores.head(n=2)"
   ]
  },
  {
   "cell_type": "code",
   "execution_count": 9,
   "id": "17679556",
   "metadata": {},
   "outputs": [
    {
     "data": {
      "text/html": [
       "<div>\n",
       "<style scoped>\n",
       "    .dataframe tbody tr th:only-of-type {\n",
       "        vertical-align: middle;\n",
       "    }\n",
       "\n",
       "    .dataframe tbody tr th {\n",
       "        vertical-align: top;\n",
       "    }\n",
       "\n",
       "    .dataframe thead th {\n",
       "        text-align: right;\n",
       "    }\n",
       "</style>\n",
       "<table border=\"1\" class=\"dataframe\">\n",
       "  <thead>\n",
       "    <tr style=\"text-align: right;\">\n",
       "      <th></th>\n",
       "      <th>userId</th>\n",
       "      <th>movieId</th>\n",
       "      <th>rating</th>\n",
       "      <th>timestamp</th>\n",
       "    </tr>\n",
       "  </thead>\n",
       "  <tbody>\n",
       "    <tr>\n",
       "      <th>16743213</th>\n",
       "      <td>115828</td>\n",
       "      <td>2145</td>\n",
       "      <td>4.5</td>\n",
       "      <td>2006-12-05 08:48:34</td>\n",
       "    </tr>\n",
       "    <tr>\n",
       "      <th>1592581</th>\n",
       "      <td>10759</td>\n",
       "      <td>1572</td>\n",
       "      <td>0.5</td>\n",
       "      <td>2003-05-29 00:52:03</td>\n",
       "    </tr>\n",
       "  </tbody>\n",
       "</table>\n",
       "</div>"
      ],
      "text/plain": [
       "          userId  movieId  rating            timestamp\n",
       "16743213  115828     2145     4.5  2006-12-05 08:48:34\n",
       "1592581    10759     1572     0.5  2003-05-29 00:52:03"
      ]
     },
     "execution_count": 9,
     "metadata": {},
     "output_type": "execute_result"
    }
   ],
   "source": [
    "# temporal action: select a subset of dataset\n",
    "df_rating = df_rating.sample(frac=0.01)\n",
    "df_rating.head(n=2)"
   ]
  },
  {
   "cell_type": "code",
   "execution_count": 10,
   "id": "aaadf90b",
   "metadata": {},
   "outputs": [
    {
     "data": {
      "text/html": [
       "<div>\n",
       "<style scoped>\n",
       "    .dataframe tbody tr th:only-of-type {\n",
       "        vertical-align: middle;\n",
       "    }\n",
       "\n",
       "    .dataframe tbody tr th {\n",
       "        vertical-align: top;\n",
       "    }\n",
       "\n",
       "    .dataframe thead th {\n",
       "        text-align: right;\n",
       "    }\n",
       "</style>\n",
       "<table border=\"1\" class=\"dataframe\">\n",
       "  <thead>\n",
       "    <tr style=\"text-align: right;\">\n",
       "      <th></th>\n",
       "      <th>movieId</th>\n",
       "      <th>tagId</th>\n",
       "      <th>relevance</th>\n",
       "    </tr>\n",
       "  </thead>\n",
       "  <tbody>\n",
       "    <tr>\n",
       "      <th>1188303</th>\n",
       "      <td>1189</td>\n",
       "      <td>520</td>\n",
       "      <td>0.02250</td>\n",
       "    </tr>\n",
       "    <tr>\n",
       "      <th>6586808</th>\n",
       "      <td>6949</td>\n",
       "      <td>417</td>\n",
       "      <td>0.09775</td>\n",
       "    </tr>\n",
       "  </tbody>\n",
       "</table>\n",
       "</div>"
      ],
      "text/plain": [
       "         movieId  tagId  relevance\n",
       "1188303     1189    520    0.02250\n",
       "6586808     6949    417    0.09775"
      ]
     },
     "execution_count": 10,
     "metadata": {},
     "output_type": "execute_result"
    }
   ],
   "source": [
    "# temporal action: select a subset of dataset\n",
    "df_genome_scores = df_genome_scores.sample(frac=0.02)\n",
    "df_genome_scores.head(n=2)"
   ]
  },
  {
   "cell_type": "code",
   "execution_count": 11,
   "id": "221d52a4",
   "metadata": {},
   "outputs": [
    {
     "data": {
      "text/html": [
       "<div>\n",
       "<style scoped>\n",
       "    .dataframe tbody tr th:only-of-type {\n",
       "        vertical-align: middle;\n",
       "    }\n",
       "\n",
       "    .dataframe tbody tr th {\n",
       "        vertical-align: top;\n",
       "    }\n",
       "\n",
       "    .dataframe thead th {\n",
       "        text-align: right;\n",
       "    }\n",
       "</style>\n",
       "<table border=\"1\" class=\"dataframe\">\n",
       "  <thead>\n",
       "    <tr style=\"text-align: right;\">\n",
       "      <th></th>\n",
       "      <th>userId</th>\n",
       "      <th>movieId</th>\n",
       "      <th>tag</th>\n",
       "      <th>timestamp</th>\n",
       "    </tr>\n",
       "  </thead>\n",
       "  <tbody>\n",
       "    <tr>\n",
       "      <th>65147</th>\n",
       "      <td>14916</td>\n",
       "      <td>64030</td>\n",
       "      <td>Francois Berleand</td>\n",
       "      <td>2014-08-09 20:39:16</td>\n",
       "    </tr>\n",
       "    <tr>\n",
       "      <th>446041</th>\n",
       "      <td>131412</td>\n",
       "      <td>2692</td>\n",
       "      <td>existentialism</td>\n",
       "      <td>2010-10-10 11:43:17</td>\n",
       "    </tr>\n",
       "  </tbody>\n",
       "</table>\n",
       "</div>"
      ],
      "text/plain": [
       "        userId  movieId                tag            timestamp\n",
       "65147    14916    64030  Francois Berleand  2014-08-09 20:39:16\n",
       "446041  131412     2692     existentialism  2010-10-10 11:43:17"
      ]
     },
     "execution_count": 11,
     "metadata": {},
     "output_type": "execute_result"
    }
   ],
   "source": [
    "# temporal action: select a subset of dataset\n",
    "df_tag = df_tag.sample(frac=0.2)\n",
    "df_tag.head(n=2)"
   ]
  },
  {
   "cell_type": "markdown",
   "id": "8bfe8006",
   "metadata": {},
   "source": [
    "## Feature Engineering"
   ]
  },
  {
   "cell_type": "markdown",
   "id": "cd0ca495",
   "metadata": {},
   "source": [
    "#### helping internal functions"
   ]
  },
  {
   "cell_type": "code",
   "execution_count": null,
   "id": "fa16edd4",
   "metadata": {},
   "outputs": [],
   "source": []
  },
  {
   "cell_type": "code",
   "execution_count": null,
   "id": "35208387",
   "metadata": {},
   "outputs": [],
   "source": []
  }
 ],
 "metadata": {
  "kernelspec": {
   "display_name": "Python 3 (ipykernel)",
   "language": "python",
   "name": "python3"
  },
  "language_info": {
   "codemirror_mode": {
    "name": "ipython",
    "version": 3
   },
   "file_extension": ".py",
   "mimetype": "text/x-python",
   "name": "python",
   "nbconvert_exporter": "python",
   "pygments_lexer": "ipython3",
   "version": "3.8.10"
  }
 },
 "nbformat": 4,
 "nbformat_minor": 5
}
