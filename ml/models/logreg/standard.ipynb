{
 "cells": [
  {
   "cell_type": "markdown",
   "id": "9341706d",
   "metadata": {},
   "source": [
    "#### import external libraries"
   ]
  },
  {
   "cell_type": "code",
   "execution_count": 5,
   "id": "55678e98",
   "metadata": {},
   "outputs": [],
   "source": [
    "import numpy as np\n",
    "import pandas as pd"
   ]
  },
  {
   "cell_type": "markdown",
   "id": "36633282",
   "metadata": {},
   "source": [
    "#### IPython extensions"
   ]
  },
  {
   "cell_type": "code",
   "execution_count": 6,
   "id": "68545b0d",
   "metadata": {},
   "outputs": [
    {
     "name": "stdout",
     "output_type": "stream",
     "text": [
      "The autoreload extension is already loaded. To reload it, use:\n",
      "  %reload_ext autoreload\n"
     ]
    }
   ],
   "source": [
    "%load_ext autoreload\n",
    "%autoreload 2"
   ]
  },
  {
   "cell_type": "markdown",
   "id": "6a3a12ba",
   "metadata": {},
   "source": [
    "#### import internal libraries"
   ]
  },
  {
   "cell_type": "markdown",
   "id": "83afd144",
   "metadata": {},
   "source": [
    "## Mathematical functions"
   ]
  },
  {
   "cell_type": "markdown",
   "id": "c8bb13eb",
   "metadata": {},
   "source": [
    "## Constants"
   ]
  },
  {
   "cell_type": "code",
   "execution_count": 7,
   "id": "7e689197",
   "metadata": {},
   "outputs": [],
   "source": [
    "PATH_FILES = '/home/franckml/Documents/repositories/movies_rating_model/ml/data/datasets/'\n",
    "FILES_NAMES = ['genome_tags.csv', 'genome_scores.csv',\n",
    "               'link.csv', 'movie.csv', 'rating.csv', 'tag.csv']"
   ]
  },
  {
   "cell_type": "markdown",
   "id": "bd3eed52",
   "metadata": {},
   "source": [
    "## Data gathering"
   ]
  },
  {
   "cell_type": "code",
   "execution_count": 8,
   "id": "ce92e5b7",
   "metadata": {},
   "outputs": [],
   "source": [
    "df_genome_tags, df_genome_scores, df_link, df_movie, df_rating, df_tag = [\n",
    "    pd.read_csv(PATH_FILES + f) for f in FILES_NAMES]"
   ]
  },
  {
   "cell_type": "code",
   "execution_count": 9,
   "id": "0d1d3c29",
   "metadata": {},
   "outputs": [
    {
     "data": {
      "text/html": [
       "<div>\n",
       "<style scoped>\n",
       "    .dataframe tbody tr th:only-of-type {\n",
       "        vertical-align: middle;\n",
       "    }\n",
       "\n",
       "    .dataframe tbody tr th {\n",
       "        vertical-align: top;\n",
       "    }\n",
       "\n",
       "    .dataframe thead th {\n",
       "        text-align: right;\n",
       "    }\n",
       "</style>\n",
       "<table border=\"1\" class=\"dataframe\">\n",
       "  <thead>\n",
       "    <tr style=\"text-align: right;\">\n",
       "      <th></th>\n",
       "      <th>tagId</th>\n",
       "      <th>tag</th>\n",
       "    </tr>\n",
       "  </thead>\n",
       "  <tbody>\n",
       "    <tr>\n",
       "      <th>0</th>\n",
       "      <td>1</td>\n",
       "      <td>007</td>\n",
       "    </tr>\n",
       "    <tr>\n",
       "      <th>1</th>\n",
       "      <td>2</td>\n",
       "      <td>007 (series)</td>\n",
       "    </tr>\n",
       "  </tbody>\n",
       "</table>\n",
       "</div>"
      ],
      "text/plain": [
       "   tagId           tag\n",
       "0      1           007\n",
       "1      2  007 (series)"
      ]
     },
     "execution_count": 9,
     "metadata": {},
     "output_type": "execute_result"
    }
   ],
   "source": [
    "df_genome_tags.head(n=2)"
   ]
  },
  {
   "cell_type": "code",
   "execution_count": 10,
   "id": "b6f41752",
   "metadata": {},
   "outputs": [
    {
     "data": {
      "text/html": [
       "<div>\n",
       "<style scoped>\n",
       "    .dataframe tbody tr th:only-of-type {\n",
       "        vertical-align: middle;\n",
       "    }\n",
       "\n",
       "    .dataframe tbody tr th {\n",
       "        vertical-align: top;\n",
       "    }\n",
       "\n",
       "    .dataframe thead th {\n",
       "        text-align: right;\n",
       "    }\n",
       "</style>\n",
       "<table border=\"1\" class=\"dataframe\">\n",
       "  <thead>\n",
       "    <tr style=\"text-align: right;\">\n",
       "      <th></th>\n",
       "      <th>movieId</th>\n",
       "      <th>tagId</th>\n",
       "      <th>relevance</th>\n",
       "    </tr>\n",
       "  </thead>\n",
       "  <tbody>\n",
       "    <tr>\n",
       "      <th>0</th>\n",
       "      <td>1</td>\n",
       "      <td>1</td>\n",
       "      <td>0.025</td>\n",
       "    </tr>\n",
       "    <tr>\n",
       "      <th>1</th>\n",
       "      <td>1</td>\n",
       "      <td>2</td>\n",
       "      <td>0.025</td>\n",
       "    </tr>\n",
       "  </tbody>\n",
       "</table>\n",
       "</div>"
      ],
      "text/plain": [
       "   movieId  tagId  relevance\n",
       "0        1      1      0.025\n",
       "1        1      2      0.025"
      ]
     },
     "execution_count": 10,
     "metadata": {},
     "output_type": "execute_result"
    }
   ],
   "source": [
    "df_genome_scores.head(n=2)"
   ]
  },
  {
   "cell_type": "code",
   "execution_count": 11,
   "id": "17679556",
   "metadata": {},
   "outputs": [
    {
     "data": {
      "text/html": [
       "<div>\n",
       "<style scoped>\n",
       "    .dataframe tbody tr th:only-of-type {\n",
       "        vertical-align: middle;\n",
       "    }\n",
       "\n",
       "    .dataframe tbody tr th {\n",
       "        vertical-align: top;\n",
       "    }\n",
       "\n",
       "    .dataframe thead th {\n",
       "        text-align: right;\n",
       "    }\n",
       "</style>\n",
       "<table border=\"1\" class=\"dataframe\">\n",
       "  <thead>\n",
       "    <tr style=\"text-align: right;\">\n",
       "      <th></th>\n",
       "      <th>userId</th>\n",
       "      <th>movieId</th>\n",
       "      <th>rating</th>\n",
       "      <th>timestamp</th>\n",
       "    </tr>\n",
       "  </thead>\n",
       "  <tbody>\n",
       "    <tr>\n",
       "      <th>17058052</th>\n",
       "      <td>118009</td>\n",
       "      <td>1213</td>\n",
       "      <td>3.5</td>\n",
       "      <td>2004-03-07 19:33:43</td>\n",
       "    </tr>\n",
       "    <tr>\n",
       "      <th>6034121</th>\n",
       "      <td>41527</td>\n",
       "      <td>2915</td>\n",
       "      <td>4.0</td>\n",
       "      <td>2002-03-21 21:00:32</td>\n",
       "    </tr>\n",
       "  </tbody>\n",
       "</table>\n",
       "</div>"
      ],
      "text/plain": [
       "          userId  movieId  rating            timestamp\n",
       "17058052  118009     1213     3.5  2004-03-07 19:33:43\n",
       "6034121    41527     2915     4.0  2002-03-21 21:00:32"
      ]
     },
     "execution_count": 11,
     "metadata": {},
     "output_type": "execute_result"
    }
   ],
   "source": [
    "# temporal action: select a subset of dataset\n",
    "df_rating = df_rating.sample(frac=0.01)\n",
    "df_rating.head(n=2)"
   ]
  },
  {
   "cell_type": "code",
   "execution_count": 12,
   "id": "aaadf90b",
   "metadata": {},
   "outputs": [
    {
     "data": {
      "text/html": [
       "<div>\n",
       "<style scoped>\n",
       "    .dataframe tbody tr th:only-of-type {\n",
       "        vertical-align: middle;\n",
       "    }\n",
       "\n",
       "    .dataframe tbody tr th {\n",
       "        vertical-align: top;\n",
       "    }\n",
       "\n",
       "    .dataframe thead th {\n",
       "        text-align: right;\n",
       "    }\n",
       "</style>\n",
       "<table border=\"1\" class=\"dataframe\">\n",
       "  <thead>\n",
       "    <tr style=\"text-align: right;\">\n",
       "      <th></th>\n",
       "      <th>movieId</th>\n",
       "      <th>tagId</th>\n",
       "      <th>relevance</th>\n",
       "    </tr>\n",
       "  </thead>\n",
       "  <tbody>\n",
       "    <tr>\n",
       "      <th>9280527</th>\n",
       "      <td>55765</td>\n",
       "      <td>472</td>\n",
       "      <td>0.793</td>\n",
       "    </tr>\n",
       "    <tr>\n",
       "      <th>8186018</th>\n",
       "      <td>31193</td>\n",
       "      <td>123</td>\n",
       "      <td>0.016</td>\n",
       "    </tr>\n",
       "  </tbody>\n",
       "</table>\n",
       "</div>"
      ],
      "text/plain": [
       "         movieId  tagId  relevance\n",
       "9280527    55765    472      0.793\n",
       "8186018    31193    123      0.016"
      ]
     },
     "execution_count": 12,
     "metadata": {},
     "output_type": "execute_result"
    }
   ],
   "source": [
    "# temporal action: select a subset of dataset\n",
    "df_genome_scores = df_genome_scores.sample(frac=0.02)\n",
    "df_genome_scores.head(n=2)"
   ]
  },
  {
   "cell_type": "code",
   "execution_count": 13,
   "id": "221d52a4",
   "metadata": {},
   "outputs": [
    {
     "data": {
      "text/html": [
       "<div>\n",
       "<style scoped>\n",
       "    .dataframe tbody tr th:only-of-type {\n",
       "        vertical-align: middle;\n",
       "    }\n",
       "\n",
       "    .dataframe tbody tr th {\n",
       "        vertical-align: top;\n",
       "    }\n",
       "\n",
       "    .dataframe thead th {\n",
       "        text-align: right;\n",
       "    }\n",
       "</style>\n",
       "<table border=\"1\" class=\"dataframe\">\n",
       "  <thead>\n",
       "    <tr style=\"text-align: right;\">\n",
       "      <th></th>\n",
       "      <th>userId</th>\n",
       "      <th>movieId</th>\n",
       "      <th>tag</th>\n",
       "      <th>timestamp</th>\n",
       "    </tr>\n",
       "  </thead>\n",
       "  <tbody>\n",
       "    <tr>\n",
       "      <th>11575</th>\n",
       "      <td>2188</td>\n",
       "      <td>67087</td>\n",
       "      <td>Lou Ferrigno</td>\n",
       "      <td>2010-01-31 02:41:15</td>\n",
       "    </tr>\n",
       "    <tr>\n",
       "      <th>267276</th>\n",
       "      <td>77696</td>\n",
       "      <td>6537</td>\n",
       "      <td>franchise</td>\n",
       "      <td>2013-05-14 19:00:17</td>\n",
       "    </tr>\n",
       "  </tbody>\n",
       "</table>\n",
       "</div>"
      ],
      "text/plain": [
       "        userId  movieId           tag            timestamp\n",
       "11575     2188    67087  Lou Ferrigno  2010-01-31 02:41:15\n",
       "267276   77696     6537     franchise  2013-05-14 19:00:17"
      ]
     },
     "execution_count": 13,
     "metadata": {},
     "output_type": "execute_result"
    }
   ],
   "source": [
    "# temporal action: select a subset of dataset\n",
    "df_tag = df_tag.sample(frac=0.2)\n",
    "df_tag.head(n=2)"
   ]
  },
  {
   "cell_type": "markdown",
   "id": "2576650e",
   "metadata": {},
   "source": [
    "## Preprocessing"
   ]
  },
  {
   "cell_type": "code",
   "execution_count": 15,
   "id": "d5c625ce",
   "metadata": {},
   "outputs": [
    {
     "data": {
      "text/html": [
       "<div>\n",
       "<style scoped>\n",
       "    .dataframe tbody tr th:only-of-type {\n",
       "        vertical-align: middle;\n",
       "    }\n",
       "\n",
       "    .dataframe tbody tr th {\n",
       "        vertical-align: top;\n",
       "    }\n",
       "\n",
       "    .dataframe thead th {\n",
       "        text-align: right;\n",
       "    }\n",
       "</style>\n",
       "<table border=\"1\" class=\"dataframe\">\n",
       "  <thead>\n",
       "    <tr style=\"text-align: right;\">\n",
       "      <th></th>\n",
       "      <th>userId</th>\n",
       "      <th>movieId</th>\n",
       "      <th>rating</th>\n",
       "      <th>timestamp</th>\n",
       "    </tr>\n",
       "  </thead>\n",
       "  <tbody>\n",
       "    <tr>\n",
       "      <th>17058052</th>\n",
       "      <td>118009</td>\n",
       "      <td>1213</td>\n",
       "      <td>3.5</td>\n",
       "      <td>2004-03-07 19:33:43</td>\n",
       "    </tr>\n",
       "    <tr>\n",
       "      <th>6034121</th>\n",
       "      <td>41527</td>\n",
       "      <td>2915</td>\n",
       "      <td>4.0</td>\n",
       "      <td>2002-03-21 21:00:32</td>\n",
       "    </tr>\n",
       "  </tbody>\n",
       "</table>\n",
       "</div>"
      ],
      "text/plain": [
       "          userId  movieId  rating           timestamp\n",
       "17058052  118009     1213     3.5 2004-03-07 19:33:43\n",
       "6034121    41527     2915     4.0 2002-03-21 21:00:32"
      ]
     },
     "execution_count": 15,
     "metadata": {},
     "output_type": "execute_result"
    }
   ],
   "source": [
    "# Change the data type: from object to datetime\n",
    "df_rating['timestamp'] = pd.to_datetime(df_rating['timestamp'], infer_datetime_format=True)\n",
    "df_rating.head(n=2)"
   ]
  },
  {
   "cell_type": "markdown",
   "id": "8bfe8006",
   "metadata": {},
   "source": [
    "## Binary Classification"
   ]
  },
  {
   "cell_type": "markdown",
   "id": "a7d1c162",
   "metadata": {},
   "source": [
    "#### Modeling structure"
   ]
  },
  {
   "cell_type": "code",
   "execution_count": 14,
   "id": "fa16edd4",
   "metadata": {},
   "outputs": [
    {
     "data": {
      "text/html": [
       "<div>\n",
       "<style scoped>\n",
       "    .dataframe tbody tr th:only-of-type {\n",
       "        vertical-align: middle;\n",
       "    }\n",
       "\n",
       "    .dataframe tbody tr th {\n",
       "        vertical-align: top;\n",
       "    }\n",
       "\n",
       "    .dataframe thead th {\n",
       "        text-align: right;\n",
       "    }\n",
       "</style>\n",
       "<table border=\"1\" class=\"dataframe\">\n",
       "  <thead>\n",
       "    <tr style=\"text-align: right;\">\n",
       "      <th></th>\n",
       "      <th>userId</th>\n",
       "      <th>movieId</th>\n",
       "      <th>rating</th>\n",
       "      <th>timestamp</th>\n",
       "    </tr>\n",
       "  </thead>\n",
       "  <tbody>\n",
       "    <tr>\n",
       "      <th>17058052</th>\n",
       "      <td>118009</td>\n",
       "      <td>1213</td>\n",
       "      <td>3.5</td>\n",
       "      <td>2004-03-07 19:33:43</td>\n",
       "    </tr>\n",
       "    <tr>\n",
       "      <th>6034121</th>\n",
       "      <td>41527</td>\n",
       "      <td>2915</td>\n",
       "      <td>4.0</td>\n",
       "      <td>2002-03-21 21:00:32</td>\n",
       "    </tr>\n",
       "    <tr>\n",
       "      <th>3061729</th>\n",
       "      <td>20849</td>\n",
       "      <td>4333</td>\n",
       "      <td>3.0</td>\n",
       "      <td>2001-06-11 12:35:05</td>\n",
       "    </tr>\n",
       "    <tr>\n",
       "      <th>3349200</th>\n",
       "      <td>22901</td>\n",
       "      <td>1622</td>\n",
       "      <td>2.0</td>\n",
       "      <td>2002-06-16 02:22:19</td>\n",
       "    </tr>\n",
       "    <tr>\n",
       "      <th>14122597</th>\n",
       "      <td>97550</td>\n",
       "      <td>39</td>\n",
       "      <td>4.0</td>\n",
       "      <td>2000-02-06 16:34:13</td>\n",
       "    </tr>\n",
       "    <tr>\n",
       "      <th>...</th>\n",
       "      <td>...</td>\n",
       "      <td>...</td>\n",
       "      <td>...</td>\n",
       "      <td>...</td>\n",
       "    </tr>\n",
       "    <tr>\n",
       "      <th>3709026</th>\n",
       "      <td>25248</td>\n",
       "      <td>1246</td>\n",
       "      <td>3.0</td>\n",
       "      <td>2004-08-16 21:12:49</td>\n",
       "    </tr>\n",
       "    <tr>\n",
       "      <th>18720635</th>\n",
       "      <td>129611</td>\n",
       "      <td>594</td>\n",
       "      <td>5.0</td>\n",
       "      <td>2012-02-26 06:47:00</td>\n",
       "    </tr>\n",
       "    <tr>\n",
       "      <th>17332666</th>\n",
       "      <td>119824</td>\n",
       "      <td>26865</td>\n",
       "      <td>3.5</td>\n",
       "      <td>2011-04-26 05:41:03</td>\n",
       "    </tr>\n",
       "    <tr>\n",
       "      <th>13551415</th>\n",
       "      <td>93622</td>\n",
       "      <td>5004</td>\n",
       "      <td>4.0</td>\n",
       "      <td>2002-07-26 17:28:27</td>\n",
       "    </tr>\n",
       "    <tr>\n",
       "      <th>5792312</th>\n",
       "      <td>39881</td>\n",
       "      <td>805</td>\n",
       "      <td>5.0</td>\n",
       "      <td>1997-04-20 11:28:28</td>\n",
       "    </tr>\n",
       "  </tbody>\n",
       "</table>\n",
       "<p>200003 rows × 4 columns</p>\n",
       "</div>"
      ],
      "text/plain": [
       "          userId  movieId  rating            timestamp\n",
       "17058052  118009     1213     3.5  2004-03-07 19:33:43\n",
       "6034121    41527     2915     4.0  2002-03-21 21:00:32\n",
       "3061729    20849     4333     3.0  2001-06-11 12:35:05\n",
       "3349200    22901     1622     2.0  2002-06-16 02:22:19\n",
       "14122597   97550       39     4.0  2000-02-06 16:34:13\n",
       "...          ...      ...     ...                  ...\n",
       "3709026    25248     1246     3.0  2004-08-16 21:12:49\n",
       "18720635  129611      594     5.0  2012-02-26 06:47:00\n",
       "17332666  119824    26865     3.5  2011-04-26 05:41:03\n",
       "13551415   93622     5004     4.0  2002-07-26 17:28:27\n",
       "5792312    39881      805     5.0  1997-04-20 11:28:28\n",
       "\n",
       "[200003 rows x 4 columns]"
      ]
     },
     "execution_count": 14,
     "metadata": {},
     "output_type": "execute_result"
    }
   ],
   "source": [
    "(\n",
    "\n",
    "    df_rating\n",
    "\n",
    ")"
   ]
  },
  {
   "cell_type": "code",
   "execution_count": null,
   "id": "0722425b",
   "metadata": {},
   "outputs": [],
   "source": []
  },
  {
   "cell_type": "code",
   "execution_count": null,
   "id": "0cdb82b9",
   "metadata": {},
   "outputs": [],
   "source": []
  },
  {
   "cell_type": "code",
   "execution_count": null,
   "id": "6662f820",
   "metadata": {},
   "outputs": [],
   "source": []
  },
  {
   "cell_type": "code",
   "execution_count": null,
   "id": "cf31fb3e",
   "metadata": {},
   "outputs": [],
   "source": []
  },
  {
   "cell_type": "code",
   "execution_count": null,
   "id": "35208387",
   "metadata": {},
   "outputs": [],
   "source": []
  }
 ],
 "metadata": {
  "kernelspec": {
   "display_name": "Python 3 (ipykernel)",
   "language": "python",
   "name": "python3"
  },
  "language_info": {
   "codemirror_mode": {
    "name": "ipython",
    "version": 3
   },
   "file_extension": ".py",
   "mimetype": "text/x-python",
   "name": "python",
   "nbconvert_exporter": "python",
   "pygments_lexer": "ipython3",
   "version": "3.8.10"
  }
 },
 "nbformat": 4,
 "nbformat_minor": 5
}
